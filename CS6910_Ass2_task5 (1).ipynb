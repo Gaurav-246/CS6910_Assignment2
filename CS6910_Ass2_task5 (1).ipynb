{
  "cells": [
    {
      "cell_type": "code",
      "execution_count": 72,
      "metadata": {
        "id": "ncVzGjJA4JVZ"
      },
      "outputs": [],
      "source": [
        "import numpy as np\n",
        "import pandas as pd\n",
        "import random\n",
        "import matplotlib.pyplot as plt\n",
        "import tensorflow as tf\n",
        "import keras\n",
        "from keras.layers import LSTM, Input, Dense, Masking\n",
        "from keras.models import Model\n",
        "from keras.models import Sequential\n",
        "from keras.preprocessing.text import Tokenizer\n",
        "from keras.preprocessing.sequence import pad_sequences\n",
        "from transformers import TFAutoModel\n",
        "from transformers import AutoTokenizer\n",
        "import re\n",
        "from nltk.translate.bleu_score import sentence_bleu\n",
        "import warnings\n",
        "warnings.filterwarnings(\"ignore\", category=UserWarning)"
      ]
    },
    {
      "cell_type": "markdown",
      "metadata": {
        "id": "GpSanORU3KrK"
      },
      "source": [
        "# Task 5 : Machine translation with encoder and decoder, each built using a single hidden layer LSTM network."
      ]
    },
    {
      "cell_type": "markdown",
      "metadata": {
        "id": "Doy9HuJhYjMr"
      },
      "source": [
        "## Data Reading"
      ]
    },
    {
      "cell_type": "code",
      "execution_count": 91,
      "metadata": {
        "id": "U6sJJSGc21Ul"
      },
      "outputs": [],
      "source": [
        "train5 = pd.read_csv('/content/drive/MyDrive/team2_te/team2_te_train.csv')    # Reading data\n",
        "val5 = pd.read_csv('/content/drive/MyDrive/team2_te/team2_te_valid.csv')\n",
        "test5 = pd.read_csv('/content/drive/MyDrive/team2_te/team2_te_test.csv')"
      ]
    },
    {
      "cell_type": "code",
      "execution_count": 3,
      "metadata": {
        "colab": {
          "base_uri": "https://localhost:8080/",
          "height": 206
        },
        "id": "PWsVxza-5eLi",
        "outputId": "f21869c6-4cbd-4b51-9ad1-a427f6c0b64a"
      },
      "outputs": [
        {
          "output_type": "execute_result",
          "data": {
            "text/plain": [
              "                                              source  \\\n",
              "0  The coalition government he confected under At...   \n",
              "1  India on Wednesday extended the ban on flights...   \n",
              "2           Coronavirus is growing rapidly in India.   \n",
              "3  The film also starred Saif Ali Khan, Riteish D...   \n",
              "4                                       Oh my world!   \n",
              "\n",
              "                                              target  \n",
              "0  అటల్‌ బిహారీ వాజ్‌పేయి నాయకత్వంలో ఆడ్వాణీ రూపు...  \n",
              "1  తన ఉత్తర్వులను మరోసారి సవరిస్తూ, బ్రిటన్ కు వి...  \n",
              "2  భారతదేశంలో కరోనా వైరస్‌ సైలెంట్‌గా విజృంభిస్తో...  \n",
              "3  సైఫ్ ఆలీఖాన్ , రితేష్ దేశ్ ముఖ్ , బిపాసా బసు ,...  \n",
              "4                                       ఓ విశ్వపతీ !  "
            ],
            "text/html": [
              "\n",
              "  <div id=\"df-0c628863-63de-4d71-9593-60042b88871b\" class=\"colab-df-container\">\n",
              "    <div>\n",
              "<style scoped>\n",
              "    .dataframe tbody tr th:only-of-type {\n",
              "        vertical-align: middle;\n",
              "    }\n",
              "\n",
              "    .dataframe tbody tr th {\n",
              "        vertical-align: top;\n",
              "    }\n",
              "\n",
              "    .dataframe thead th {\n",
              "        text-align: right;\n",
              "    }\n",
              "</style>\n",
              "<table border=\"1\" class=\"dataframe\">\n",
              "  <thead>\n",
              "    <tr style=\"text-align: right;\">\n",
              "      <th></th>\n",
              "      <th>source</th>\n",
              "      <th>target</th>\n",
              "    </tr>\n",
              "  </thead>\n",
              "  <tbody>\n",
              "    <tr>\n",
              "      <th>0</th>\n",
              "      <td>The coalition government he confected under At...</td>\n",
              "      <td>అటల్‌ బిహారీ వాజ్‌పేయి నాయకత్వంలో ఆడ్వాణీ రూపు...</td>\n",
              "    </tr>\n",
              "    <tr>\n",
              "      <th>1</th>\n",
              "      <td>India on Wednesday extended the ban on flights...</td>\n",
              "      <td>తన ఉత్తర్వులను మరోసారి సవరిస్తూ, బ్రిటన్ కు వి...</td>\n",
              "    </tr>\n",
              "    <tr>\n",
              "      <th>2</th>\n",
              "      <td>Coronavirus is growing rapidly in India.</td>\n",
              "      <td>భారతదేశంలో కరోనా వైరస్‌ సైలెంట్‌గా విజృంభిస్తో...</td>\n",
              "    </tr>\n",
              "    <tr>\n",
              "      <th>3</th>\n",
              "      <td>The film also starred Saif Ali Khan, Riteish D...</td>\n",
              "      <td>సైఫ్ ఆలీఖాన్ , రితేష్ దేశ్ ముఖ్ , బిపాసా బసు ,...</td>\n",
              "    </tr>\n",
              "    <tr>\n",
              "      <th>4</th>\n",
              "      <td>Oh my world!</td>\n",
              "      <td>ఓ విశ్వపతీ !</td>\n",
              "    </tr>\n",
              "  </tbody>\n",
              "</table>\n",
              "</div>\n",
              "    <div class=\"colab-df-buttons\">\n",
              "\n",
              "  <div class=\"colab-df-container\">\n",
              "    <button class=\"colab-df-convert\" onclick=\"convertToInteractive('df-0c628863-63de-4d71-9593-60042b88871b')\"\n",
              "            title=\"Convert this dataframe to an interactive table.\"\n",
              "            style=\"display:none;\">\n",
              "\n",
              "  <svg xmlns=\"http://www.w3.org/2000/svg\" height=\"24px\" viewBox=\"0 -960 960 960\">\n",
              "    <path d=\"M120-120v-720h720v720H120Zm60-500h600v-160H180v160Zm220 220h160v-160H400v160Zm0 220h160v-160H400v160ZM180-400h160v-160H180v160Zm440 0h160v-160H620v160ZM180-180h160v-160H180v160Zm440 0h160v-160H620v160Z\"/>\n",
              "  </svg>\n",
              "    </button>\n",
              "\n",
              "  <style>\n",
              "    .colab-df-container {\n",
              "      display:flex;\n",
              "      gap: 12px;\n",
              "    }\n",
              "\n",
              "    .colab-df-convert {\n",
              "      background-color: #E8F0FE;\n",
              "      border: none;\n",
              "      border-radius: 50%;\n",
              "      cursor: pointer;\n",
              "      display: none;\n",
              "      fill: #1967D2;\n",
              "      height: 32px;\n",
              "      padding: 0 0 0 0;\n",
              "      width: 32px;\n",
              "    }\n",
              "\n",
              "    .colab-df-convert:hover {\n",
              "      background-color: #E2EBFA;\n",
              "      box-shadow: 0px 1px 2px rgba(60, 64, 67, 0.3), 0px 1px 3px 1px rgba(60, 64, 67, 0.15);\n",
              "      fill: #174EA6;\n",
              "    }\n",
              "\n",
              "    .colab-df-buttons div {\n",
              "      margin-bottom: 4px;\n",
              "    }\n",
              "\n",
              "    [theme=dark] .colab-df-convert {\n",
              "      background-color: #3B4455;\n",
              "      fill: #D2E3FC;\n",
              "    }\n",
              "\n",
              "    [theme=dark] .colab-df-convert:hover {\n",
              "      background-color: #434B5C;\n",
              "      box-shadow: 0px 1px 3px 1px rgba(0, 0, 0, 0.15);\n",
              "      filter: drop-shadow(0px 1px 2px rgba(0, 0, 0, 0.3));\n",
              "      fill: #FFFFFF;\n",
              "    }\n",
              "  </style>\n",
              "\n",
              "    <script>\n",
              "      const buttonEl =\n",
              "        document.querySelector('#df-0c628863-63de-4d71-9593-60042b88871b button.colab-df-convert');\n",
              "      buttonEl.style.display =\n",
              "        google.colab.kernel.accessAllowed ? 'block' : 'none';\n",
              "\n",
              "      async function convertToInteractive(key) {\n",
              "        const element = document.querySelector('#df-0c628863-63de-4d71-9593-60042b88871b');\n",
              "        const dataTable =\n",
              "          await google.colab.kernel.invokeFunction('convertToInteractive',\n",
              "                                                    [key], {});\n",
              "        if (!dataTable) return;\n",
              "\n",
              "        const docLinkHtml = 'Like what you see? Visit the ' +\n",
              "          '<a target=\"_blank\" href=https://colab.research.google.com/notebooks/data_table.ipynb>data table notebook</a>'\n",
              "          + ' to learn more about interactive tables.';\n",
              "        element.innerHTML = '';\n",
              "        dataTable['output_type'] = 'display_data';\n",
              "        await google.colab.output.renderOutput(dataTable, element);\n",
              "        const docLink = document.createElement('div');\n",
              "        docLink.innerHTML = docLinkHtml;\n",
              "        element.appendChild(docLink);\n",
              "      }\n",
              "    </script>\n",
              "  </div>\n",
              "\n",
              "\n",
              "<div id=\"df-bd10cbab-e3ff-4e05-9bab-205a2c7e3095\">\n",
              "  <button class=\"colab-df-quickchart\" onclick=\"quickchart('df-bd10cbab-e3ff-4e05-9bab-205a2c7e3095')\"\n",
              "            title=\"Suggest charts\"\n",
              "            style=\"display:none;\">\n",
              "\n",
              "<svg xmlns=\"http://www.w3.org/2000/svg\" height=\"24px\"viewBox=\"0 0 24 24\"\n",
              "     width=\"24px\">\n",
              "    <g>\n",
              "        <path d=\"M19 3H5c-1.1 0-2 .9-2 2v14c0 1.1.9 2 2 2h14c1.1 0 2-.9 2-2V5c0-1.1-.9-2-2-2zM9 17H7v-7h2v7zm4 0h-2V7h2v10zm4 0h-2v-4h2v4z\"/>\n",
              "    </g>\n",
              "</svg>\n",
              "  </button>\n",
              "\n",
              "<style>\n",
              "  .colab-df-quickchart {\n",
              "      --bg-color: #E8F0FE;\n",
              "      --fill-color: #1967D2;\n",
              "      --hover-bg-color: #E2EBFA;\n",
              "      --hover-fill-color: #174EA6;\n",
              "      --disabled-fill-color: #AAA;\n",
              "      --disabled-bg-color: #DDD;\n",
              "  }\n",
              "\n",
              "  [theme=dark] .colab-df-quickchart {\n",
              "      --bg-color: #3B4455;\n",
              "      --fill-color: #D2E3FC;\n",
              "      --hover-bg-color: #434B5C;\n",
              "      --hover-fill-color: #FFFFFF;\n",
              "      --disabled-bg-color: #3B4455;\n",
              "      --disabled-fill-color: #666;\n",
              "  }\n",
              "\n",
              "  .colab-df-quickchart {\n",
              "    background-color: var(--bg-color);\n",
              "    border: none;\n",
              "    border-radius: 50%;\n",
              "    cursor: pointer;\n",
              "    display: none;\n",
              "    fill: var(--fill-color);\n",
              "    height: 32px;\n",
              "    padding: 0;\n",
              "    width: 32px;\n",
              "  }\n",
              "\n",
              "  .colab-df-quickchart:hover {\n",
              "    background-color: var(--hover-bg-color);\n",
              "    box-shadow: 0 1px 2px rgba(60, 64, 67, 0.3), 0 1px 3px 1px rgba(60, 64, 67, 0.15);\n",
              "    fill: var(--button-hover-fill-color);\n",
              "  }\n",
              "\n",
              "  .colab-df-quickchart-complete:disabled,\n",
              "  .colab-df-quickchart-complete:disabled:hover {\n",
              "    background-color: var(--disabled-bg-color);\n",
              "    fill: var(--disabled-fill-color);\n",
              "    box-shadow: none;\n",
              "  }\n",
              "\n",
              "  .colab-df-spinner {\n",
              "    border: 2px solid var(--fill-color);\n",
              "    border-color: transparent;\n",
              "    border-bottom-color: var(--fill-color);\n",
              "    animation:\n",
              "      spin 1s steps(1) infinite;\n",
              "  }\n",
              "\n",
              "  @keyframes spin {\n",
              "    0% {\n",
              "      border-color: transparent;\n",
              "      border-bottom-color: var(--fill-color);\n",
              "      border-left-color: var(--fill-color);\n",
              "    }\n",
              "    20% {\n",
              "      border-color: transparent;\n",
              "      border-left-color: var(--fill-color);\n",
              "      border-top-color: var(--fill-color);\n",
              "    }\n",
              "    30% {\n",
              "      border-color: transparent;\n",
              "      border-left-color: var(--fill-color);\n",
              "      border-top-color: var(--fill-color);\n",
              "      border-right-color: var(--fill-color);\n",
              "    }\n",
              "    40% {\n",
              "      border-color: transparent;\n",
              "      border-right-color: var(--fill-color);\n",
              "      border-top-color: var(--fill-color);\n",
              "    }\n",
              "    60% {\n",
              "      border-color: transparent;\n",
              "      border-right-color: var(--fill-color);\n",
              "    }\n",
              "    80% {\n",
              "      border-color: transparent;\n",
              "      border-right-color: var(--fill-color);\n",
              "      border-bottom-color: var(--fill-color);\n",
              "    }\n",
              "    90% {\n",
              "      border-color: transparent;\n",
              "      border-bottom-color: var(--fill-color);\n",
              "    }\n",
              "  }\n",
              "</style>\n",
              "\n",
              "  <script>\n",
              "    async function quickchart(key) {\n",
              "      const quickchartButtonEl =\n",
              "        document.querySelector('#' + key + ' button');\n",
              "      quickchartButtonEl.disabled = true;  // To prevent multiple clicks.\n",
              "      quickchartButtonEl.classList.add('colab-df-spinner');\n",
              "      try {\n",
              "        const charts = await google.colab.kernel.invokeFunction(\n",
              "            'suggestCharts', [key], {});\n",
              "      } catch (error) {\n",
              "        console.error('Error during call to suggestCharts:', error);\n",
              "      }\n",
              "      quickchartButtonEl.classList.remove('colab-df-spinner');\n",
              "      quickchartButtonEl.classList.add('colab-df-quickchart-complete');\n",
              "    }\n",
              "    (() => {\n",
              "      let quickchartButtonEl =\n",
              "        document.querySelector('#df-bd10cbab-e3ff-4e05-9bab-205a2c7e3095 button');\n",
              "      quickchartButtonEl.style.display =\n",
              "        google.colab.kernel.accessAllowed ? 'block' : 'none';\n",
              "    })();\n",
              "  </script>\n",
              "</div>\n",
              "    </div>\n",
              "  </div>\n"
            ],
            "application/vnd.google.colaboratory.intrinsic+json": {
              "type": "dataframe",
              "variable_name": "train5",
              "summary": "{\n  \"name\": \"train5\",\n  \"rows\": 69999,\n  \"fields\": [\n    {\n      \"column\": \"source\",\n      \"properties\": {\n        \"dtype\": \"string\",\n        \"num_unique_values\": 65698,\n        \"samples\": [\n          \"\\\"I consider their comments precious,\\\"\\\" she says.\\\"\",\n          \"It is complicated and debatable.\",\n          \"The private entrepreneurs/ cooperative bodies/ joint ventures will be invited by the respective state Governments for oil palm plantation in their state.\"\n        ],\n        \"semantic_type\": \"\",\n        \"description\": \"\"\n      }\n    },\n    {\n      \"column\": \"target\",\n      \"properties\": {\n        \"dtype\": \"string\",\n        \"num_unique_values\": 69958,\n        \"samples\": [\n          \"\\u0c28\\u0c3f\\u0c26\\u0c4d\\u0c30\\u0c32\\u0c47\\u0c2e\\u0c3f \\u0c35\\u0c32\\u0c4d\\u0c32 \\u0c28\\u0c3e\\u0c28\\u0c3e \\u0c30\\u0c15\\u0c3e\\u0c32 \\u0c06\\u0c30\\u0c4b\\u0c17\\u0c4d\\u0c2f \\u0c38\\u0c2e\\u0c38\\u0c4d\\u0c2f\\u0c32\\u0c41 \\u0c24\\u0c32\\u0c46\\u0c24\\u0c4d\\u0c24\\u0c41\\u0c24\\u0c3e\\u0c2f\\u0c3f.\",\n          \"\\u0c2a\\u0c4b\\u0c30\\u0c4d\\u0c1f\\u0c4d\\u0c2b\\u0c4b\\u0c32\\u0c3f\\u0c2f\\u0c4b\\u0c32\\u0c4b \\u0c1a\\u0c47\\u0c30\\u0c4d\\u0c1a\\u0c3f\\u0c28 \\u0c38\\u0c4d\\u0c1f\\u0c3e\\u0c15\\u0c4d\\u0c32 \\u0c32\\u0c3f\\u0c15\\u0c4d\\u0c35\\u0c3f\\u0c21\\u0c3f\\u0c1f\\u0c40 \\u0c05\\u0c30\\u0c4d\\u0c39\\u0c24 \\u0c28\\u0c3f\\u0c2c\\u0c02\\u0c27\\u0c28\\u0c32\\u0c28\\u0c41 \\u0c15\\u0c42\\u0c21\\u0c3e \\u0c38\\u0c46\\u0c2c\\u0c40 \\u0c2a\\u0c47\\u0c30\\u0c4d\\u0c15\\u0c4a\\u0c02\\u0c26\\u0c3f.\",\n          \"\\u0c0f \\u0c38\\u0c4d\\u0c2a\\u0c02\\u0c26\\u0c28\\u0c3e \\u0c30\\u0c3e\\u0c15\\u0c2a\\u0c4b\\u0c35\\u0c21\\u0c02 \\u0c15\\u0c42\\u0c21\\u0c3e \\u0c13 \\u0c38\\u0c2e\\u0c3e\\u0c27\\u0c3e\\u0c28\\u0c2e\\u0c47 \\u0c15\\u0c26\\u0c3e.\"\n        ],\n        \"semantic_type\": \"\",\n        \"description\": \"\"\n      }\n    }\n  ]\n}"
            }
          },
          "metadata": {},
          "execution_count": 3
        }
      ],
      "source": [
        "train5.head()"
      ]
    },
    {
      "cell_type": "code",
      "execution_count": 92,
      "metadata": {
        "id": "swJs9tk9GAdE"
      },
      "outputs": [],
      "source": [
        "train5 = train5[:10000]\n",
        "val5 = val5[:2000]\n",
        "test5 = test5[:1000]"
      ]
    },
    {
      "cell_type": "code",
      "execution_count": 93,
      "metadata": {
        "id": "q2ETdEdOfJtN"
      },
      "outputs": [],
      "source": [
        "train5['source'] = train5['source'].str.lower()   # Converting to lowercase\n",
        "val5['source'] = val5['source'].str.lower()\n",
        "test5['source'] = test5['source'].str.lower()"
      ]
    },
    {
      "cell_type": "code",
      "execution_count": 94,
      "metadata": {
        "colab": {
          "base_uri": "https://localhost:8080/"
        },
        "id": "ZUT41EY-jjKj",
        "outputId": "3fd00cd9-d5d8-42bb-dc19-32df27771b93"
      },
      "outputs": [
        {
          "output_type": "stream",
          "name": "stdout",
          "text": [
            "Max length of sentence in Eng :  170\n",
            "Min length of sentence in Eng :  1\n",
            "Avg length of sentence in Ind :  9.5639\n"
          ]
        }
      ],
      "source": [
        "max_len_eng = 0\n",
        "min_len_eng = 10\n",
        "eng_lengths=[]\n",
        "for string in train5['source']:\n",
        "  max_len_eng = np.max((len(string.split()), max_len_eng))\n",
        "  min_len_eng = np.min((len(string.split()), min_len_eng))\n",
        "  eng_lengths.append(len(string.split()))\n",
        "print('Max length of sentence in Eng : ',max_len_eng)\n",
        "print('Min length of sentence in Eng : ',min_len_eng)\n",
        "print('Avg length of sentence in Ind : ',np.mean(eng_lengths))"
      ]
    },
    {
      "cell_type": "code",
      "execution_count": 95,
      "metadata": {
        "colab": {
          "base_uri": "https://localhost:8080/"
        },
        "id": "j6P6SHr6luac",
        "outputId": "58ea4cd5-10b7-4b5e-f2bd-9dc2bc8fecf7"
      },
      "outputs": [
        {
          "output_type": "stream",
          "name": "stdout",
          "text": [
            "Max length of sentence in Ind :  85\n",
            "Min length of sentence in Ind :  1\n",
            "Avg length of sentence in Ind :  7.349\n"
          ]
        }
      ],
      "source": [
        "max_len_ind = 0\n",
        "min_len_ind = 10\n",
        "ind_lengths = []\n",
        "for string in train5['target']:\n",
        "  max_len_ind = np.max((len(string.split()), max_len_ind))\n",
        "  min_len_ind = np.min((len(string.split()), min_len_ind))\n",
        "  ind_lengths.append(len(string.split()))\n",
        "print('Max length of sentence in Ind : ',max_len_ind)\n",
        "print('Min length of sentence in Ind : ',min_len_ind)\n",
        "print('Avg length of sentence in Ind : ',np.mean(ind_lengths))"
      ]
    },
    {
      "cell_type": "code",
      "execution_count": 96,
      "metadata": {
        "id": "BwyhJAAPOyCF"
      },
      "outputs": [],
      "source": [
        "max_len_eng = 10\n",
        "max_len_ind = 10"
      ]
    },
    {
      "cell_type": "markdown",
      "metadata": {
        "id": "6gXJbubY4h9I"
      },
      "source": [
        "### Embedding English sentences\n",
        "\n"
      ]
    },
    {
      "cell_type": "code",
      "execution_count": 97,
      "metadata": {
        "id": "LAFeqNPnZ1va"
      },
      "outputs": [],
      "source": [
        "eng_embedding_dim = 50"
      ]
    },
    {
      "cell_type": "code",
      "execution_count": 98,
      "metadata": {
        "id": "gFIlsuCo1FNN"
      },
      "outputs": [],
      "source": [
        "def read_glove_vector(glove_vec):\n",
        "  '''\n",
        "  Function to read GloVe embeddings\n",
        "  '''\n",
        "  with open(glove_vec, 'r', encoding='UTF-8') as f:\n",
        "    words = set()\n",
        "    word_to_vec_map = {}\n",
        "    for line in f:\n",
        "      w_line = line.split()\n",
        "      curr_word = w_line[0]\n",
        "      word_to_vec_map[curr_word] = np.array(w_line[1:], dtype=np.float64)\n",
        "  return word_to_vec_map"
      ]
    },
    {
      "cell_type": "code",
      "execution_count": 99,
      "metadata": {
        "id": "OEKIBruk0uex"
      },
      "outputs": [],
      "source": [
        "word_to_vec_map = read_glove_vector('/content/drive/My Drive/glove.6B.50d.txt')"
      ]
    },
    {
      "cell_type": "code",
      "execution_count": 100,
      "metadata": {
        "id": "99oIWuEH43sh"
      },
      "outputs": [],
      "source": [
        "tokenizer = Tokenizer(filters='!\"#$%&()*+,-./:;<=>?@[\\\\]^_`{|}~\\t\\n\\'\"')\n",
        "tokenizer.fit_on_texts(train5['source'])\n",
        "punctuations = [\"'\",'\"',',','!', '#', '$', '%','&','(',')','*','+','-','.','/',':',';','<','=','>','?','@','[','\\\\',']','^','_','`','{','}','|','~','\\t','\\n']\n",
        "for punctuation in punctuations:\n",
        "    tokenizer.word_index[punctuation] = len(tokenizer.word_index) + 1   # Tokeinzing the words and puctuations\n",
        "index_word = {index: word for word, index in tokenizer.word_index.items()}"
      ]
    },
    {
      "cell_type": "code",
      "execution_count": 101,
      "metadata": {
        "id": "HyJ8BlsMY5KT"
      },
      "outputs": [],
      "source": [
        "def pad_and_seq(data):\n",
        "    '''\n",
        "    Function to pad and tokenize the data\n",
        "    '''\n",
        "    data_padded = np.zeros((len(data), max_len_eng))\n",
        "    for i in range(len(data)):\n",
        "      for j in range(max_len_eng):\n",
        "          tokens = re.split(r'(\\w+|[^\\w\\s])', data[i])    # Converting the tokens to indices\n",
        "          tokens = [token for token in tokens if token.strip()]\n",
        "          if j < len(tokens):\n",
        "              if tokens[j] in tokenizer.word_index.keys():\n",
        "                  data_padded[i][j] = tokenizer.word_index[tokens[j]]\n",
        "    return data_padded\n",
        "\n",
        "index_word[0] = 'thisiszerovector'\n",
        "\n",
        "def vectorize_seq(data):\n",
        "    '''\n",
        "    Function to embed/vectorize data using GloVe\n",
        "    '''\n",
        "    data_new = np.zeros((data.shape[0], data.shape[1], eng_embedding_dim))\n",
        "    for i in range(data_new.shape[0]):\n",
        "      for j in range(data_new.shape[1]):\n",
        "          word = index_word[int(data[i,j])]\n",
        "          if word in word_to_vec_map.keys():\n",
        "            data_new[i,j,:] = word_to_vec_map[word]\n",
        "    return data_new"
      ]
    },
    {
      "cell_type": "code",
      "execution_count": 102,
      "metadata": {
        "id": "-UMubbADnf4T"
      },
      "outputs": [],
      "source": [
        "train_english_padded = pad_and_seq(train5['source'])\n",
        "val_english_padded = pad_and_seq(val5['source'])\n",
        "test_english_padded = pad_and_seq(test5['source'])"
      ]
    },
    {
      "cell_type": "code",
      "execution_count": 103,
      "metadata": {
        "id": "FLHxjdCAhtrt"
      },
      "outputs": [],
      "source": [
        "# Vectorize sentences\n",
        "train_english = vectorize_seq(train_english_padded)\n",
        "val_english = vectorize_seq(val_english_padded)\n",
        "test_english = vectorize_seq(test_english_padded)"
      ]
    },
    {
      "cell_type": "code",
      "execution_count": 104,
      "metadata": {
        "colab": {
          "base_uri": "https://localhost:8080/"
        },
        "id": "DWYDwJWCa3AQ",
        "outputId": "e26dec7e-37f0-4cfa-f382-353286fe241e"
      },
      "outputs": [
        {
          "output_type": "stream",
          "name": "stdout",
          "text": [
            "Size of vocabulary for English sentences (training):  13202\n"
          ]
        }
      ],
      "source": [
        "print('Size of vocabulary for English sentences (training): ', len(tokenizer.word_index))"
      ]
    },
    {
      "cell_type": "code",
      "execution_count": 105,
      "metadata": {
        "colab": {
          "base_uri": "https://localhost:8080/"
        },
        "id": "TYWj_PGnLvPI",
        "outputId": "345a7a84-995e-4ba1-d77e-1590a6fcab74"
      },
      "outputs": [
        {
          "output_type": "execute_result",
          "data": {
            "text/plain": [
              "((10000, 10, 50), (2000, 10, 50), (1000, 10, 50))"
            ]
          },
          "metadata": {},
          "execution_count": 105
        }
      ],
      "source": [
        "train_english.shape, val_english.shape, test_english.shape"
      ]
    },
    {
      "cell_type": "markdown",
      "metadata": {
        "id": "NnMZiTaIQdOo"
      },
      "source": [
        "We have now successfully embedded the given english data using GloVe. The first dim is number of training samples, second dim is the maximum length of the sentence, and the third dim is the dim of the emdedding vector, which is 50."
      ]
    },
    {
      "cell_type": "markdown",
      "metadata": {
        "id": "FGsoT5Y_OieF"
      },
      "source": [
        "### Embedding Indic sentences"
      ]
    },
    {
      "cell_type": "code",
      "execution_count": 106,
      "metadata": {
        "colab": {
          "base_uri": "https://localhost:8080/",
          "height": 220,
          "referenced_widgets": [
            "6ea689f564bc4428be7eab6e0ce0eb36",
            "d48ff822f47141baac14c0de3e5fe8a7",
            "06272b922b554457bdf05bd3f7e0a54c",
            "35b9fde1c3194870a63270284cee34f5",
            "5d79a1e1ee9145d5b01918b5d1bd4c3d",
            "3307a7db9d514a119d5b0086b194147e",
            "716b91d20d134f99b36f8404d0db0d2a",
            "27da0a203e884cd8bed2aa3783c9ca2f",
            "fcfba48bf08e44d9be30e01d6eb96402",
            "8e5429a48e3f400e9f2d4ff18f1376a2",
            "6db2a8993e8542a8a6d1a5edd5aba70f",
            "c16ad3d297a64ae4affd3bb3dfd47d44",
            "0e0df76c579e42d396c767e3c5b7013c",
            "eff8502abcc6400e872ec60ec5bc7de5",
            "025d166ea35c43c8b229fa19c2e90299",
            "6d44f977279e497c9cdd70b9e6d92cc9",
            "3145bab333454d5aae38fcc9be93dc91",
            "2f7efb18cff74fd39c2947c15d71d4f6",
            "67fbe433549a410eb8d5cb2fd1b61c74",
            "c31cec360f6e4c97b0533f4743e60d04",
            "8638f60805c445c79497340e5d254574",
            "ddf03cc8165e4bbe97496b46819d5a0c",
            "44f653f4225e45d1a3d27ffd70fea977",
            "fac4098060ad451191dbe739a1c06a39",
            "cb6bc831a2cd401f947c11cb77657125",
            "07441b67fa4f4acaaedcaf0cfd99e489",
            "f9ada4a7d38f47b393ec2e6c094b8fab",
            "ff47ea01a3294415bc7596280865b011",
            "ff41226924f44c2eaf31d0973e08b1ba",
            "a369061f29744f78b6d270eaca4b0ac7",
            "68cb2bb089f2433f803d526594f70cfa",
            "6a629449c91b4a07acd3f9fadbac68fd",
            "a87129445bfd49d88d0117d11a832218"
          ]
        },
        "id": "vtAIIFN7clE9",
        "outputId": "c723d587-d5c1-427d-dee3-31b9deb946a8"
      },
      "outputs": [
        {
          "output_type": "display_data",
          "data": {
            "text/plain": [
              "config.json:   0%|          | 0.00/507 [00:00<?, ?B/s]"
            ],
            "application/vnd.jupyter.widget-view+json": {
              "version_major": 2,
              "version_minor": 0,
              "model_id": "6ea689f564bc4428be7eab6e0ce0eb36"
            }
          },
          "metadata": {}
        },
        {
          "output_type": "display_data",
          "data": {
            "text/plain": [
              "spiece.model:   0%|          | 0.00/5.65M [00:00<?, ?B/s]"
            ],
            "application/vnd.jupyter.widget-view+json": {
              "version_major": 2,
              "version_minor": 0,
              "model_id": "c16ad3d297a64ae4affd3bb3dfd47d44"
            }
          },
          "metadata": {}
        },
        {
          "output_type": "display_data",
          "data": {
            "text/plain": [
              "pytorch_model.bin:   0%|          | 0.00/135M [00:00<?, ?B/s]"
            ],
            "application/vnd.jupyter.widget-view+json": {
              "version_major": 2,
              "version_minor": 0,
              "model_id": "44f653f4225e45d1a3d27ffd70fea977"
            }
          },
          "metadata": {}
        },
        {
          "output_type": "stream",
          "name": "stderr",
          "text": [
            "Some weights of the PyTorch model were not used when initializing the TF 2.0 model TFAlbertModel: ['predictions.dense.bias', 'predictions.LayerNorm.weight', 'predictions.decoder.weight', 'sop_classifier.classifier.bias', 'predictions.bias', 'predictions.LayerNorm.bias', 'predictions.decoder.bias', 'predictions.dense.weight', 'sop_classifier.classifier.weight']\n",
            "- This IS expected if you are initializing TFAlbertModel from a PyTorch model trained on another task or with another architecture (e.g. initializing a TFBertForSequenceClassification model from a BertForPreTraining model).\n",
            "- This IS NOT expected if you are initializing TFAlbertModel from a PyTorch model that you expect to be exactly identical (e.g. initializing a TFBertForSequenceClassification model from a BertForSequenceClassification model).\n",
            "All the weights of TFAlbertModel were initialized from the PyTorch model.\n",
            "If your task is similar to the task the model of the checkpoint was trained on, you can already use TFAlbertModel for predictions without further training.\n"
          ]
        }
      ],
      "source": [
        "tokenizer_ind = AutoTokenizer.from_pretrained('ai4bharat/indic-bert')\n",
        "model_indbert = TFAutoModel.from_pretrained('ai4bharat/indic-bert', from_pt=True).get_input_embeddings()"
      ]
    },
    {
      "cell_type": "code",
      "execution_count": 107,
      "metadata": {
        "id": "TETTyT7TOln8"
      },
      "outputs": [],
      "source": [
        "train_indic_text = train5['target'].tolist()\n",
        "val_indic_text = val5['target'].tolist()\n",
        "test_indic_text = test5['target'].tolist()\n",
        "\n",
        "train_indic_text_tokens = tokenizer_ind(train_indic_text, padding='max_length', truncation=True, max_length=max_len_ind, return_tensors='tf')\n",
        "val_indic_text_tokens = tokenizer_ind(val_indic_text, padding='max_length', truncation=True, max_length=max_len_ind, return_tensors='tf')\n",
        "test_indic_text_tokens = tokenizer_ind(test_indic_text, padding='max_length', truncation=True, max_length=max_len_ind, return_tensors='tf')"
      ]
    },
    {
      "cell_type": "code",
      "execution_count": 108,
      "metadata": {
        "colab": {
          "base_uri": "https://localhost:8080/"
        },
        "id": "-DCJwDNdX4kt",
        "outputId": "aa532aa3-5875-4e2d-aa35-0ca066349069"
      },
      "outputs": [
        {
          "output_type": "stream",
          "name": "stdout",
          "text": [
            "Vocabulary size of Indic language :  1111\n"
          ]
        }
      ],
      "source": [
        "vocab_size_ind_train = np.unique(train_indic_text_tokens['input_ids']).shape[0]\n",
        "vocab_size_ind_val = np.unique(val_indic_text_tokens['input_ids']).shape[0]\n",
        "vocab_size_ind_test = np.unique(test_indic_text_tokens['input_ids']).shape[0]\n",
        "\n",
        "print('Vocabulary size of Indic language : ',vocab_size_ind_train)"
      ]
    },
    {
      "cell_type": "code",
      "execution_count": 109,
      "metadata": {
        "id": "izHD1nGXlihm"
      },
      "outputs": [],
      "source": [
        "ind_sequence_train = range(vocab_size_ind_train)\n",
        "ind_sequence_val = range(vocab_size_ind_val)\n",
        "ind_sequence_test = range(vocab_size_ind_test)\n",
        "\n",
        "sequence_dict_train = {}\n",
        "sequence_dict_val = {}\n",
        "sequence_dict_test = {}\n",
        "\n",
        "for i,j in zip(np.unique(train_indic_text_tokens['input_ids']), ind_sequence_train):\n",
        "    sequence_dict_train[i] = j\n",
        "\n",
        "for i,j in zip(np.unique(val_indic_text_tokens['input_ids']), ind_sequence_val):\n",
        "    sequence_dict_val[i] = j\n",
        "\n",
        "for i,j in zip(np.unique(test_indic_text_tokens['input_ids']), ind_sequence_test):\n",
        "    sequence_dict_test[i] = j\n",
        "\n",
        "mapped_function_train = np.vectorize(lambda x: sequence_dict_train.get(x, x))\n",
        "mapped_function_val = np.vectorize(lambda x: sequence_dict_val.get(x, x))\n",
        "mapped_function_test = np.vectorize(lambda x: sequence_dict_test.get(x, x))\n",
        "\n",
        "train_indic_text_tokens['input_ids'] = mapped_function_train(train_indic_text_tokens['input_ids'].numpy())\n",
        "val_indic_text_tokens['input_ids'] = mapped_function_val(val_indic_text_tokens['input_ids'].numpy())\n",
        "test_indic_text_tokens['input_ids'] = mapped_function_test(test_indic_text_tokens['input_ids'].numpy())\n",
        "\n",
        "train_indic_text_tokens['input_ids'] = tf.constant(train_indic_text_tokens['input_ids'])\n",
        "val_indic_text_tokens['input_ids'] = tf.constant(val_indic_text_tokens['input_ids'])\n",
        "test_indic_text_tokens['input_ids'] = tf.constant(test_indic_text_tokens['input_ids'])"
      ]
    },
    {
      "cell_type": "code",
      "execution_count": 110,
      "metadata": {
        "id": "cVqRajtFiYpp"
      },
      "outputs": [],
      "source": [
        "train_indic = model_indbert(train_indic_text_tokens['input_ids'], train_indic_text_tokens['attention_mask']).numpy()\n",
        "val_indic = model_indbert(val_indic_text_tokens['input_ids'], val_indic_text_tokens['attention_mask']).numpy()\n",
        "test_indic = model_indbert(test_indic_text_tokens['input_ids'], test_indic_text_tokens['attention_mask']).numpy()"
      ]
    },
    {
      "cell_type": "code",
      "execution_count": 111,
      "metadata": {
        "colab": {
          "base_uri": "https://localhost:8080/"
        },
        "id": "j_XwwvoulcvY",
        "outputId": "fe43f14e-d677-404a-f5c1-9ee6da5d219e"
      },
      "outputs": [
        {
          "output_type": "stream",
          "name": "stdout",
          "text": [
            "(10000, 10, 128) (2000, 10, 128) (1000, 10, 128)\n"
          ]
        }
      ],
      "source": [
        "print(train_indic.shape, val_indic.shape, test_indic.shape)"
      ]
    },
    {
      "cell_type": "code",
      "execution_count": 112,
      "metadata": {
        "colab": {
          "base_uri": "https://localhost:8080/"
        },
        "id": "pMdcavlml50d",
        "outputId": "f05dc942-e20c-4f39-821b-79d12d933d77"
      },
      "outputs": [
        {
          "output_type": "stream",
          "name": "stdout",
          "text": [
            "భారతదేశంలో కరోనా వైరస్‌ సైలెంట్‌గా విజృంభిస్తోంది.\n",
            "tf.Tensor([  2 984 654  72 451  81   6 810 970   3], shape=(10,), dtype=int64)\n",
            "[[-0.602987    0.25132552 -0.02279774 ...  0.07270921 -0.07406937\n",
            "   0.08301478]\n",
            " [-1.0659171   0.13505325 -0.27841157 ... -0.10180465 -0.21177185\n",
            "   0.5742666 ]\n",
            " [-0.01316994 -0.17785558  0.4233597  ...  0.15304899 -0.05257851\n",
            "  -0.76144445]\n",
            " ...\n",
            " [ 0.19513088  0.38181195 -0.34263095 ... -0.43292102  0.02467063\n",
            "  -0.33424437]\n",
            " [-1.0138708  -0.14222197  0.11988396 ...  0.22667918 -0.5726075\n",
            "   1.1208166 ]\n",
            " [-0.34749624  0.25073248 -0.62306756 ...  0.2737821   0.7896164\n",
            "   0.31719106]]\n"
          ]
        }
      ],
      "source": [
        "print(train5['target'][2])\n",
        "print(train_indic_text_tokens['input_ids'][2])\n",
        "print(train_indic[2])"
      ]
    },
    {
      "cell_type": "markdown",
      "metadata": {
        "id": "uy2mkFA5mXO0"
      },
      "source": [
        "We have now also successfully embedded Indic sentences using IndicBERT, and can be clearly seen from the above values. The first dim is number of samples, the second is the maximum indic sentence length and the third dim is the size of the embedding vector, which is 128 in this case."
      ]
    },
    {
      "cell_type": "markdown",
      "metadata": {
        "id": "3WzzRhPj6SVv"
      },
      "source": [
        "### Model building"
      ]
    },
    {
      "cell_type": "code",
      "execution_count": 113,
      "metadata": {
        "id": "mSHc4N3MGIRB"
      },
      "outputs": [],
      "source": [
        "hidden_units = 200\n",
        "ind_embedding_dim = 128\n",
        "eng_embedding_dim = 50"
      ]
    },
    {
      "cell_type": "code",
      "execution_count": 114,
      "metadata": {
        "id": "WCj11xfNeFsi"
      },
      "outputs": [],
      "source": [
        "decoder_targets_one_hot = np.zeros((train_english.shape[0], max_len_ind, vocab_size_ind_train), dtype='int8')"
      ]
    },
    {
      "cell_type": "code",
      "execution_count": 115,
      "metadata": {
        "id": "7dPdcmvqfJqp"
      },
      "outputs": [],
      "source": [
        "for i, d in enumerate(train_indic_text_tokens['input_ids']):\n",
        "    for t, word in enumerate(d):\n",
        "        decoder_targets_one_hot[i, t, word] = 1"
      ]
    },
    {
      "cell_type": "code",
      "execution_count": 121,
      "metadata": {
        "id": "B62j5Xh-uhOk"
      },
      "outputs": [],
      "source": [
        "#encoder\n",
        "encoder_inputs = Masking(mask_value=0)(Input(shape=(max_len_eng, eng_embedding_dim)))\n",
        "encoder = LSTM(hidden_units, return_state=True)\n",
        "encoder_outputs, state_h, state_c = encoder(encoder_inputs)\n",
        "encoder_states = [state_h, state_c]"
      ]
    },
    {
      "cell_type": "code",
      "execution_count": 122,
      "metadata": {
        "id": "treabkzovJS4"
      },
      "outputs": [],
      "source": [
        "#Decoder\n",
        "decoder_inputs = Masking(mask_value=0)(Input(shape=(max_len_ind, ind_embedding_dim)))\n",
        "decoder = LSTM(hidden_units, return_sequences=True, return_state=True)\n",
        "decoder_outputs,_,_ = decoder(decoder_inputs, initial_state = encoder_states)\n",
        "decoder_dense = Dense(vocab_size_ind_train, activation='softmax')\n",
        "decoder_outputs = decoder_dense(decoder_outputs)\n",
        "model = Model([encoder_inputs, decoder_inputs], decoder_outputs)"
      ]
    },
    {
      "cell_type": "code",
      "execution_count": 126,
      "metadata": {
        "id": "uW4FxuAJIInT"
      },
      "outputs": [],
      "source": [
        "model.compile(optimizer='adam', loss='categorical_crossentropy', metrics=['accuracy'])"
      ]
    },
    {
      "cell_type": "code",
      "execution_count": 127,
      "metadata": {
        "colab": {
          "base_uri": "https://localhost:8080/"
        },
        "id": "kQDq0sWZIwiU",
        "outputId": "3a6556a1-a99a-4c2a-f97a-1c35f34b5d94"
      },
      "outputs": [
        {
          "output_type": "stream",
          "name": "stdout",
          "text": [
            "Model: \"model_1\"\n",
            "__________________________________________________________________________________________________\n",
            " Layer (type)                Output Shape                 Param #   Connected to                  \n",
            "==================================================================================================\n",
            " input_7 (InputLayer)        [(None, 10, 50)]             0         []                            \n",
            "                                                                                                  \n",
            " input_8 (InputLayer)        [(None, 10, 128)]            0         []                            \n",
            "                                                                                                  \n",
            " lstm_2 (LSTM)               [(None, 200),                200800    ['input_7[0][0]']             \n",
            "                              (None, 200),                                                        \n",
            "                              (None, 200)]                                                        \n",
            "                                                                                                  \n",
            " lstm_3 (LSTM)               [(None, 10, 200),            263200    ['input_8[0][0]',             \n",
            "                              (None, 200),                           'lstm_2[1][1]',              \n",
            "                              (None, 200)]                           'lstm_2[1][2]']              \n",
            "                                                                                                  \n",
            " dense_1 (Dense)             (None, 10, 1111)             223311    ['lstm_3[1][0]']              \n",
            "                                                                                                  \n",
            "==================================================================================================\n",
            "Total params: 687311 (2.62 MB)\n",
            "Trainable params: 687311 (2.62 MB)\n",
            "Non-trainable params: 0 (0.00 Byte)\n",
            "__________________________________________________________________________________________________\n"
          ]
        }
      ],
      "source": [
        "model.summary()"
      ]
    },
    {
      "cell_type": "code",
      "execution_count": 128,
      "metadata": {
        "colab": {
          "base_uri": "https://localhost:8080/"
        },
        "id": "qLf1wCqCJB6Y",
        "outputId": "acccc3de-52a2-46fe-f0c7-0ac1228462bf"
      },
      "outputs": [
        {
          "output_type": "stream",
          "name": "stdout",
          "text": [
            "Epoch 1/20\n",
            "45/45 [==============================] - 19s 327ms/step - loss: 4.9504 - accuracy: 0.2145 - val_loss: 4.0876 - val_accuracy: 0.2904\n",
            "Epoch 2/20\n",
            "45/45 [==============================] - 11s 254ms/step - loss: 3.6639 - accuracy: 0.3962 - val_loss: 3.2234 - val_accuracy: 0.4881\n",
            "Epoch 3/20\n",
            "45/45 [==============================] - 10s 230ms/step - loss: 2.7063 - accuracy: 0.5846 - val_loss: 2.2572 - val_accuracy: 0.6559\n",
            "Epoch 4/20\n",
            "45/45 [==============================] - 10s 230ms/step - loss: 1.8283 - accuracy: 0.7265 - val_loss: 1.5120 - val_accuracy: 0.7867\n",
            "Epoch 5/20\n",
            "45/45 [==============================] - 11s 251ms/step - loss: 1.2112 - accuracy: 0.8410 - val_loss: 1.0221 - val_accuracy: 0.8674\n",
            "Epoch 6/20\n",
            "45/45 [==============================] - 11s 244ms/step - loss: 0.8137 - accuracy: 0.8980 - val_loss: 0.7129 - val_accuracy: 0.9212\n",
            "Epoch 7/20\n",
            "45/45 [==============================] - 9s 204ms/step - loss: 0.5629 - accuracy: 0.9374 - val_loss: 0.5174 - val_accuracy: 0.9477\n",
            "Epoch 8/20\n",
            "45/45 [==============================] - 11s 248ms/step - loss: 0.4040 - accuracy: 0.9595 - val_loss: 0.3940 - val_accuracy: 0.9612\n",
            "Epoch 9/20\n",
            "45/45 [==============================] - 11s 255ms/step - loss: 0.3010 - accuracy: 0.9705 - val_loss: 0.3126 - val_accuracy: 0.9700\n",
            "Epoch 10/20\n",
            "45/45 [==============================] - 9s 199ms/step - loss: 0.2318 - accuracy: 0.9786 - val_loss: 0.2561 - val_accuracy: 0.9772\n",
            "Epoch 11/20\n",
            "45/45 [==============================] - 11s 244ms/step - loss: 0.1833 - accuracy: 0.9833 - val_loss: 0.2170 - val_accuracy: 0.9804\n",
            "Epoch 12/20\n",
            "45/45 [==============================] - 11s 250ms/step - loss: 0.1487 - accuracy: 0.9861 - val_loss: 0.1883 - val_accuracy: 0.9826\n",
            "Epoch 13/20\n",
            "45/45 [==============================] - 9s 211ms/step - loss: 0.1231 - accuracy: 0.9881 - val_loss: 0.1673 - val_accuracy: 0.9849\n",
            "Epoch 14/20\n",
            "45/45 [==============================] - 11s 239ms/step - loss: 0.1037 - accuracy: 0.9900 - val_loss: 0.1516 - val_accuracy: 0.9862\n",
            "Epoch 15/20\n",
            "45/45 [==============================] - 11s 245ms/step - loss: 0.0887 - accuracy: 0.9912 - val_loss: 0.1393 - val_accuracy: 0.9876\n",
            "Epoch 16/20\n",
            "45/45 [==============================] - 11s 247ms/step - loss: 0.0765 - accuracy: 0.9925 - val_loss: 0.1298 - val_accuracy: 0.9887\n",
            "Epoch 17/20\n",
            "45/45 [==============================] - 9s 205ms/step - loss: 0.0666 - accuracy: 0.9933 - val_loss: 0.1220 - val_accuracy: 0.9890\n",
            "Epoch 18/20\n",
            "45/45 [==============================] - 11s 251ms/step - loss: 0.0585 - accuracy: 0.9941 - val_loss: 0.1155 - val_accuracy: 0.9899\n",
            "Epoch 19/20\n",
            "45/45 [==============================] - 11s 249ms/step - loss: 0.0515 - accuracy: 0.9947 - val_loss: 0.1103 - val_accuracy: 0.9904\n",
            "Epoch 20/20\n",
            "45/45 [==============================] - 9s 200ms/step - loss: 0.0457 - accuracy: 0.9951 - val_loss: 0.1061 - val_accuracy: 0.9911\n"
          ]
        }
      ],
      "source": [
        "history = model.fit([train_english, train_indic],\n",
        "                        decoder_targets_one_hot, batch_size=200, epochs=20,\n",
        "                        validation_split=0.1)"
      ]
    },
    {
      "cell_type": "code",
      "execution_count": 129,
      "metadata": {
        "id": "VC5iAC7x6gFW"
      },
      "outputs": [],
      "source": [
        "model.save('my_model_lstm6.keras')"
      ]
    },
    {
      "cell_type": "code",
      "execution_count": 132,
      "metadata": {
        "id": "nd9CeX4X6kiU"
      },
      "outputs": [],
      "source": [
        "model = tf.keras.models.load_model('my_model_lstm6.keras')"
      ]
    },
    {
      "cell_type": "markdown",
      "metadata": {
        "id": "7Sws2MuMtuYP"
      },
      "source": [
        "## Making predictions"
      ]
    },
    {
      "cell_type": "code",
      "execution_count": 133,
      "metadata": {
        "id": "RRVdso8g6utw"
      },
      "outputs": [],
      "source": [
        "encoder_inputs = model.input[0]\n",
        "encoder_outputs, state_h_enc, state_c_enc = model.layers[2].output  # lstm_1\n",
        "encoder_states = [state_h_enc, state_c_enc]"
      ]
    },
    {
      "cell_type": "code",
      "execution_count": 134,
      "metadata": {
        "id": "SGlTe7oJCwZI"
      },
      "outputs": [],
      "source": [
        "encoder_model = Model(encoder_inputs, encoder_states)\n",
        "\n",
        "decoder_inputs = model.input[1]\n",
        "\n",
        "decoder_state_input_h = tf.keras.layers.Input(shape=(hidden_units,), name='anotherInput1')\n",
        "decoder_state_input_c = tf.keras.layers.Input(shape=(hidden_units,), name='anotherInput2')\n",
        "decoder_states_inputs = [decoder_state_input_h, decoder_state_input_c]\n",
        "\n",
        "decoder = model.layers[3]\n",
        "decoder_dense = model.layers[4]\n",
        "\n",
        "decoder_outputs, state_h, state_c = decoder(\n",
        "    decoder_inputs, initial_state=decoder_states_inputs)\n",
        "decoder_states = [state_h, state_c]\n",
        "decoder_outputs = decoder_dense(decoder_outputs)\n",
        "decoder_model = Model(\n",
        "    [decoder_inputs] + decoder_states_inputs,\n",
        "    [decoder_outputs] + decoder_states)"
      ]
    },
    {
      "cell_type": "code",
      "execution_count": 135,
      "metadata": {
        "id": "I2owtqrVbdl0"
      },
      "outputs": [],
      "source": [
        "def embed_word(word):\n",
        "    tokenized_word = tokenizer_ind(word, padding='max_length', max_length = max_len_ind, return_tensors='tf')\n",
        "    tokenized_word['input_ids'] = mapped_function_train(tokenized_word['input_ids'].numpy())\n",
        "    tokenized_word['input_ids'] = tf.constant(tokenized_word['input_ids'], dtype=tf.int32)\n",
        "    target_word = model_indbert(tokenized_word['input_ids'], tokenized_word['attention_mask']).numpy()\n",
        "    return target_word"
      ]
    },
    {
      "cell_type": "code",
      "execution_count": 136,
      "metadata": {
        "id": "ir_WNexKetVm"
      },
      "outputs": [],
      "source": [
        "rev_seq_dict = {value: key for key, value in sequence_dict_train.items()}"
      ]
    },
    {
      "cell_type": "code",
      "execution_count": 141,
      "metadata": {
        "id": "FfmVpBVWufqo"
      },
      "outputs": [],
      "source": [
        "def decode_sequence(input_seq):\n",
        "    enc_out = encoder_model.predict(input_seq, verbose=0)\n",
        "                              # BOS Token index is 2 in IndicBERT\n",
        "    eos = 3                   # EOS Token index is 3 in IndicBERT\n",
        "    s = np.zeros((1, hidden_units))\n",
        "    c = np.zeros((1, hidden_units))\n",
        "\n",
        "    target_word = np.zeros((1,10,128))\n",
        "    output_sentence = []\n",
        "    for x in range(max_len_ind):\n",
        "      o, s, c = decoder_model.predict([target_word]+enc_out, verbose=0)\n",
        "      # Get next word\n",
        "      idx = np.argmax(o[0,0,:])\n",
        "      idx = rev_seq_dict[idx]\n",
        "      # End sentence of EOS\n",
        "      if eos == idx:\n",
        "        break\n",
        "      word = ''\n",
        "      if idx > 0:\n",
        "        word = tokenizer_ind.decode(idx)\n",
        "        output_sentence.append(word)\n",
        "\n",
        "      # Update the decoder input\n",
        "      # which is just the word just generated\n",
        "      target_word = np.expand_dims(embed_word(word)[0][0], axis=0)\n",
        "      target_word = np.expand_dims(target_word, axis=0)\n",
        "      enc_out = [s,c]\n",
        "\n",
        "    return ' '.join(output_sentence)"
      ]
    },
    {
      "cell_type": "markdown",
      "metadata": {
        "id": "5-sETPar4vHe"
      },
      "source": [
        "### Predictions and Calculating BLEU Scores"
      ]
    },
    {
      "cell_type": "code",
      "source": [
        "pred_train = []\n",
        "for i in range(train5.shape[0]):\n",
        "    input_seq = train_english[i:i+1]\n",
        "    translation = decode_sequence(input_seq)\n",
        "    pred_train.append(translation)\n",
        "\n",
        "actual_train = train5['target'].tolist()\n",
        "np.save('pred_train.npy', np.array(pred_train))"
      ],
      "metadata": {
        "id": "k_zVMbEckQlw"
      },
      "execution_count": null,
      "outputs": []
    },
    {
      "cell_type": "code",
      "execution_count": null,
      "metadata": {
        "colab": {
          "background_save": true
        },
        "id": "KemQHf-V4qg_"
      },
      "outputs": [],
      "source": [
        "pred_test = []\n",
        "for i in range(test5.shape[0]):\n",
        "    input_seq = test_english[i:i+1]\n",
        "    translation = decode_sequence(input_seq)\n",
        "    pred_test.append(translation)\n",
        "\n",
        "actual_test = test5['target'].tolist()\n",
        "np.save('pred_test.npy', np.array(pred_test))"
      ]
    },
    {
      "cell_type": "code",
      "execution_count": 81,
      "metadata": {
        "id": "rOgpHIVtoL6M"
      },
      "outputs": [],
      "source": [
        "pred_train = np.load('pred_train.npy')\n",
        "pred_test = np.load('pred_test.npy')\n",
        "\n",
        "def calculate_bleu_score(predicted_sentences, actual_sentences, k=1):\n",
        "  total_bleu_score = 0\n",
        "  for predicted_sentence, actual_sentence in zip(predicted_sentences, actual_sentences):\n",
        "    reference = [actual_sentence.split()]\n",
        "    candidate = predicted_sentence.split()\n",
        "    weights = [1 / k for _ in range(k)]\n",
        "    bleu_score = sentence_bleu(reference, candidate, weights = tuple(weights))\n",
        "    total_bleu_score += bleu_score\n",
        "  average_bleu_score = total_bleu_score / len(predicted_sentences)\n",
        "  return average_bleu_score"
      ]
    },
    {
      "cell_type": "code",
      "source": [
        "for i in np.arange(6,9):\n",
        "  print('Input sentence : ', train5['source'].tolist()[i])\n",
        "  print('Actual output : ', actual_train[i])\n",
        "  print('Predicted output : ', pred_train[i])"
      ],
      "metadata": {
        "colab": {
          "base_uri": "https://localhost:8080/"
        },
        "id": "MlOU-zuugHNW",
        "outputId": "454e02aa-ca29-40ce-c213-0368e3def694"
      },
      "execution_count": 90,
      "outputs": [
        {
          "output_type": "stream",
          "name": "stdout",
          "text": [
            "Input sentence :  Later the mosque was destroyed.\n",
            "Actual output :  ఆ తరవాత ప్రాంగణంలో ఉన్న మసీదును కూల్చివేశారు.\n",
            "Predicted output :  ఆ కూల్చివేశారు.\n",
            "Input sentence :  The total value of the contract is Rs\n",
            "Actual output :  మొత్తం డీల్‌ విలువ రూ\n",
            "Predicted output :  \n",
            "Input sentence :  Hyderabad: Andhra Pradesh Chief Minister Chandrababu Naidu is going to shift to his own farmhouse in Madinaguda in Hyderabad on Sunday\n",
            "Actual output :  ఆంధ్రప్రదేశ్ ముఖ్యమంత్రి చంద్రబాబు ఆదివారం విశాఖ ఉత్సవాల్లో పాల్గొనున్నారు\n",
            "Predicted output :  \n"
          ]
        }
      ]
    },
    {
      "cell_type": "markdown",
      "source": [
        "As we can see, it predicts some sentences well (at least the starting/ending), but it seems to predicting blanks or padding for many sentences. This might be because the model is learning the padding vectors since there are many padded values in spite of using a Masking layer."
      ],
      "metadata": {
        "id": "DenTGjEig9vR"
      }
    },
    {
      "cell_type": "code",
      "source": [
        "print('Training Dataset')\n",
        "for i in range(4):\n",
        "  print('BLEU-',i+1,'score : ',calculate_bleu_score(pred_train, actual_train, i+1))\n",
        "print('------------------------------------------')\n",
        "print('Testing Dataset')\n",
        "for i in range(4):\n",
        "  print('BLEU-',i+1,'score : ',calculate_bleu_score(pred_test, actual_test, i+1))"
      ],
      "metadata": {
        "colab": {
          "base_uri": "https://localhost:8080/"
        },
        "id": "brIEG5aCYu1S",
        "outputId": "be8691bd-cc83-4a7b-e1f1-09114ee2a0de"
      },
      "execution_count": 82,
      "outputs": [
        {
          "output_type": "stream",
          "name": "stdout",
          "text": [
            "Training Dataset\n",
            "BLEU- 1 score :  0.20209220408368953\n",
            "BLEU- 2 score :  0.06210313934670278\n",
            "BLEU- 3 score :  0.00957548453267699\n",
            "BLEU- 4 score :  1.1694909541403812e-79\n",
            "------------------------------------------\n",
            "Testing Dataset\n",
            "BLEU- 1 score :  0.1201556595530594\n",
            "BLEU- 2 score :  0.030899881546674505\n",
            "BLEU- 3 score :  8.691037524673306e-105\n",
            "BLEU- 4 score :  4.6092369025765457e-156\n"
          ]
        }
      ]
    }
  ],
  "metadata": {
    "colab": {
      "provenance": []
    },
    "kernelspec": {
      "display_name": "Python 3",
      "name": "python3"
    },
    "language_info": {
      "name": "python"
    },
    "widgets": {
      "application/vnd.jupyter.widget-state+json": {
        "6ea689f564bc4428be7eab6e0ce0eb36": {
          "model_module": "@jupyter-widgets/controls",
          "model_name": "HBoxModel",
          "model_module_version": "1.5.0",
          "state": {
            "_dom_classes": [],
            "_model_module": "@jupyter-widgets/controls",
            "_model_module_version": "1.5.0",
            "_model_name": "HBoxModel",
            "_view_count": null,
            "_view_module": "@jupyter-widgets/controls",
            "_view_module_version": "1.5.0",
            "_view_name": "HBoxView",
            "box_style": "",
            "children": [
              "IPY_MODEL_d48ff822f47141baac14c0de3e5fe8a7",
              "IPY_MODEL_06272b922b554457bdf05bd3f7e0a54c",
              "IPY_MODEL_35b9fde1c3194870a63270284cee34f5"
            ],
            "layout": "IPY_MODEL_5d79a1e1ee9145d5b01918b5d1bd4c3d"
          }
        },
        "d48ff822f47141baac14c0de3e5fe8a7": {
          "model_module": "@jupyter-widgets/controls",
          "model_name": "HTMLModel",
          "model_module_version": "1.5.0",
          "state": {
            "_dom_classes": [],
            "_model_module": "@jupyter-widgets/controls",
            "_model_module_version": "1.5.0",
            "_model_name": "HTMLModel",
            "_view_count": null,
            "_view_module": "@jupyter-widgets/controls",
            "_view_module_version": "1.5.0",
            "_view_name": "HTMLView",
            "description": "",
            "description_tooltip": null,
            "layout": "IPY_MODEL_3307a7db9d514a119d5b0086b194147e",
            "placeholder": "​",
            "style": "IPY_MODEL_716b91d20d134f99b36f8404d0db0d2a",
            "value": "config.json: 100%"
          }
        },
        "06272b922b554457bdf05bd3f7e0a54c": {
          "model_module": "@jupyter-widgets/controls",
          "model_name": "FloatProgressModel",
          "model_module_version": "1.5.0",
          "state": {
            "_dom_classes": [],
            "_model_module": "@jupyter-widgets/controls",
            "_model_module_version": "1.5.0",
            "_model_name": "FloatProgressModel",
            "_view_count": null,
            "_view_module": "@jupyter-widgets/controls",
            "_view_module_version": "1.5.0",
            "_view_name": "ProgressView",
            "bar_style": "success",
            "description": "",
            "description_tooltip": null,
            "layout": "IPY_MODEL_27da0a203e884cd8bed2aa3783c9ca2f",
            "max": 507,
            "min": 0,
            "orientation": "horizontal",
            "style": "IPY_MODEL_fcfba48bf08e44d9be30e01d6eb96402",
            "value": 507
          }
        },
        "35b9fde1c3194870a63270284cee34f5": {
          "model_module": "@jupyter-widgets/controls",
          "model_name": "HTMLModel",
          "model_module_version": "1.5.0",
          "state": {
            "_dom_classes": [],
            "_model_module": "@jupyter-widgets/controls",
            "_model_module_version": "1.5.0",
            "_model_name": "HTMLModel",
            "_view_count": null,
            "_view_module": "@jupyter-widgets/controls",
            "_view_module_version": "1.5.0",
            "_view_name": "HTMLView",
            "description": "",
            "description_tooltip": null,
            "layout": "IPY_MODEL_8e5429a48e3f400e9f2d4ff18f1376a2",
            "placeholder": "​",
            "style": "IPY_MODEL_6db2a8993e8542a8a6d1a5edd5aba70f",
            "value": " 507/507 [00:00&lt;00:00, 12.8kB/s]"
          }
        },
        "5d79a1e1ee9145d5b01918b5d1bd4c3d": {
          "model_module": "@jupyter-widgets/base",
          "model_name": "LayoutModel",
          "model_module_version": "1.2.0",
          "state": {
            "_model_module": "@jupyter-widgets/base",
            "_model_module_version": "1.2.0",
            "_model_name": "LayoutModel",
            "_view_count": null,
            "_view_module": "@jupyter-widgets/base",
            "_view_module_version": "1.2.0",
            "_view_name": "LayoutView",
            "align_content": null,
            "align_items": null,
            "align_self": null,
            "border": null,
            "bottom": null,
            "display": null,
            "flex": null,
            "flex_flow": null,
            "grid_area": null,
            "grid_auto_columns": null,
            "grid_auto_flow": null,
            "grid_auto_rows": null,
            "grid_column": null,
            "grid_gap": null,
            "grid_row": null,
            "grid_template_areas": null,
            "grid_template_columns": null,
            "grid_template_rows": null,
            "height": null,
            "justify_content": null,
            "justify_items": null,
            "left": null,
            "margin": null,
            "max_height": null,
            "max_width": null,
            "min_height": null,
            "min_width": null,
            "object_fit": null,
            "object_position": null,
            "order": null,
            "overflow": null,
            "overflow_x": null,
            "overflow_y": null,
            "padding": null,
            "right": null,
            "top": null,
            "visibility": null,
            "width": null
          }
        },
        "3307a7db9d514a119d5b0086b194147e": {
          "model_module": "@jupyter-widgets/base",
          "model_name": "LayoutModel",
          "model_module_version": "1.2.0",
          "state": {
            "_model_module": "@jupyter-widgets/base",
            "_model_module_version": "1.2.0",
            "_model_name": "LayoutModel",
            "_view_count": null,
            "_view_module": "@jupyter-widgets/base",
            "_view_module_version": "1.2.0",
            "_view_name": "LayoutView",
            "align_content": null,
            "align_items": null,
            "align_self": null,
            "border": null,
            "bottom": null,
            "display": null,
            "flex": null,
            "flex_flow": null,
            "grid_area": null,
            "grid_auto_columns": null,
            "grid_auto_flow": null,
            "grid_auto_rows": null,
            "grid_column": null,
            "grid_gap": null,
            "grid_row": null,
            "grid_template_areas": null,
            "grid_template_columns": null,
            "grid_template_rows": null,
            "height": null,
            "justify_content": null,
            "justify_items": null,
            "left": null,
            "margin": null,
            "max_height": null,
            "max_width": null,
            "min_height": null,
            "min_width": null,
            "object_fit": null,
            "object_position": null,
            "order": null,
            "overflow": null,
            "overflow_x": null,
            "overflow_y": null,
            "padding": null,
            "right": null,
            "top": null,
            "visibility": null,
            "width": null
          }
        },
        "716b91d20d134f99b36f8404d0db0d2a": {
          "model_module": "@jupyter-widgets/controls",
          "model_name": "DescriptionStyleModel",
          "model_module_version": "1.5.0",
          "state": {
            "_model_module": "@jupyter-widgets/controls",
            "_model_module_version": "1.5.0",
            "_model_name": "DescriptionStyleModel",
            "_view_count": null,
            "_view_module": "@jupyter-widgets/base",
            "_view_module_version": "1.2.0",
            "_view_name": "StyleView",
            "description_width": ""
          }
        },
        "27da0a203e884cd8bed2aa3783c9ca2f": {
          "model_module": "@jupyter-widgets/base",
          "model_name": "LayoutModel",
          "model_module_version": "1.2.0",
          "state": {
            "_model_module": "@jupyter-widgets/base",
            "_model_module_version": "1.2.0",
            "_model_name": "LayoutModel",
            "_view_count": null,
            "_view_module": "@jupyter-widgets/base",
            "_view_module_version": "1.2.0",
            "_view_name": "LayoutView",
            "align_content": null,
            "align_items": null,
            "align_self": null,
            "border": null,
            "bottom": null,
            "display": null,
            "flex": null,
            "flex_flow": null,
            "grid_area": null,
            "grid_auto_columns": null,
            "grid_auto_flow": null,
            "grid_auto_rows": null,
            "grid_column": null,
            "grid_gap": null,
            "grid_row": null,
            "grid_template_areas": null,
            "grid_template_columns": null,
            "grid_template_rows": null,
            "height": null,
            "justify_content": null,
            "justify_items": null,
            "left": null,
            "margin": null,
            "max_height": null,
            "max_width": null,
            "min_height": null,
            "min_width": null,
            "object_fit": null,
            "object_position": null,
            "order": null,
            "overflow": null,
            "overflow_x": null,
            "overflow_y": null,
            "padding": null,
            "right": null,
            "top": null,
            "visibility": null,
            "width": null
          }
        },
        "fcfba48bf08e44d9be30e01d6eb96402": {
          "model_module": "@jupyter-widgets/controls",
          "model_name": "ProgressStyleModel",
          "model_module_version": "1.5.0",
          "state": {
            "_model_module": "@jupyter-widgets/controls",
            "_model_module_version": "1.5.0",
            "_model_name": "ProgressStyleModel",
            "_view_count": null,
            "_view_module": "@jupyter-widgets/base",
            "_view_module_version": "1.2.0",
            "_view_name": "StyleView",
            "bar_color": null,
            "description_width": ""
          }
        },
        "8e5429a48e3f400e9f2d4ff18f1376a2": {
          "model_module": "@jupyter-widgets/base",
          "model_name": "LayoutModel",
          "model_module_version": "1.2.0",
          "state": {
            "_model_module": "@jupyter-widgets/base",
            "_model_module_version": "1.2.0",
            "_model_name": "LayoutModel",
            "_view_count": null,
            "_view_module": "@jupyter-widgets/base",
            "_view_module_version": "1.2.0",
            "_view_name": "LayoutView",
            "align_content": null,
            "align_items": null,
            "align_self": null,
            "border": null,
            "bottom": null,
            "display": null,
            "flex": null,
            "flex_flow": null,
            "grid_area": null,
            "grid_auto_columns": null,
            "grid_auto_flow": null,
            "grid_auto_rows": null,
            "grid_column": null,
            "grid_gap": null,
            "grid_row": null,
            "grid_template_areas": null,
            "grid_template_columns": null,
            "grid_template_rows": null,
            "height": null,
            "justify_content": null,
            "justify_items": null,
            "left": null,
            "margin": null,
            "max_height": null,
            "max_width": null,
            "min_height": null,
            "min_width": null,
            "object_fit": null,
            "object_position": null,
            "order": null,
            "overflow": null,
            "overflow_x": null,
            "overflow_y": null,
            "padding": null,
            "right": null,
            "top": null,
            "visibility": null,
            "width": null
          }
        },
        "6db2a8993e8542a8a6d1a5edd5aba70f": {
          "model_module": "@jupyter-widgets/controls",
          "model_name": "DescriptionStyleModel",
          "model_module_version": "1.5.0",
          "state": {
            "_model_module": "@jupyter-widgets/controls",
            "_model_module_version": "1.5.0",
            "_model_name": "DescriptionStyleModel",
            "_view_count": null,
            "_view_module": "@jupyter-widgets/base",
            "_view_module_version": "1.2.0",
            "_view_name": "StyleView",
            "description_width": ""
          }
        },
        "c16ad3d297a64ae4affd3bb3dfd47d44": {
          "model_module": "@jupyter-widgets/controls",
          "model_name": "HBoxModel",
          "model_module_version": "1.5.0",
          "state": {
            "_dom_classes": [],
            "_model_module": "@jupyter-widgets/controls",
            "_model_module_version": "1.5.0",
            "_model_name": "HBoxModel",
            "_view_count": null,
            "_view_module": "@jupyter-widgets/controls",
            "_view_module_version": "1.5.0",
            "_view_name": "HBoxView",
            "box_style": "",
            "children": [
              "IPY_MODEL_0e0df76c579e42d396c767e3c5b7013c",
              "IPY_MODEL_eff8502abcc6400e872ec60ec5bc7de5",
              "IPY_MODEL_025d166ea35c43c8b229fa19c2e90299"
            ],
            "layout": "IPY_MODEL_6d44f977279e497c9cdd70b9e6d92cc9"
          }
        },
        "0e0df76c579e42d396c767e3c5b7013c": {
          "model_module": "@jupyter-widgets/controls",
          "model_name": "HTMLModel",
          "model_module_version": "1.5.0",
          "state": {
            "_dom_classes": [],
            "_model_module": "@jupyter-widgets/controls",
            "_model_module_version": "1.5.0",
            "_model_name": "HTMLModel",
            "_view_count": null,
            "_view_module": "@jupyter-widgets/controls",
            "_view_module_version": "1.5.0",
            "_view_name": "HTMLView",
            "description": "",
            "description_tooltip": null,
            "layout": "IPY_MODEL_3145bab333454d5aae38fcc9be93dc91",
            "placeholder": "​",
            "style": "IPY_MODEL_2f7efb18cff74fd39c2947c15d71d4f6",
            "value": "spiece.model: 100%"
          }
        },
        "eff8502abcc6400e872ec60ec5bc7de5": {
          "model_module": "@jupyter-widgets/controls",
          "model_name": "FloatProgressModel",
          "model_module_version": "1.5.0",
          "state": {
            "_dom_classes": [],
            "_model_module": "@jupyter-widgets/controls",
            "_model_module_version": "1.5.0",
            "_model_name": "FloatProgressModel",
            "_view_count": null,
            "_view_module": "@jupyter-widgets/controls",
            "_view_module_version": "1.5.0",
            "_view_name": "ProgressView",
            "bar_style": "success",
            "description": "",
            "description_tooltip": null,
            "layout": "IPY_MODEL_67fbe433549a410eb8d5cb2fd1b61c74",
            "max": 5646064,
            "min": 0,
            "orientation": "horizontal",
            "style": "IPY_MODEL_c31cec360f6e4c97b0533f4743e60d04",
            "value": 5646064
          }
        },
        "025d166ea35c43c8b229fa19c2e90299": {
          "model_module": "@jupyter-widgets/controls",
          "model_name": "HTMLModel",
          "model_module_version": "1.5.0",
          "state": {
            "_dom_classes": [],
            "_model_module": "@jupyter-widgets/controls",
            "_model_module_version": "1.5.0",
            "_model_name": "HTMLModel",
            "_view_count": null,
            "_view_module": "@jupyter-widgets/controls",
            "_view_module_version": "1.5.0",
            "_view_name": "HTMLView",
            "description": "",
            "description_tooltip": null,
            "layout": "IPY_MODEL_8638f60805c445c79497340e5d254574",
            "placeholder": "​",
            "style": "IPY_MODEL_ddf03cc8165e4bbe97496b46819d5a0c",
            "value": " 5.65M/5.65M [00:00&lt;00:00, 8.40MB/s]"
          }
        },
        "6d44f977279e497c9cdd70b9e6d92cc9": {
          "model_module": "@jupyter-widgets/base",
          "model_name": "LayoutModel",
          "model_module_version": "1.2.0",
          "state": {
            "_model_module": "@jupyter-widgets/base",
            "_model_module_version": "1.2.0",
            "_model_name": "LayoutModel",
            "_view_count": null,
            "_view_module": "@jupyter-widgets/base",
            "_view_module_version": "1.2.0",
            "_view_name": "LayoutView",
            "align_content": null,
            "align_items": null,
            "align_self": null,
            "border": null,
            "bottom": null,
            "display": null,
            "flex": null,
            "flex_flow": null,
            "grid_area": null,
            "grid_auto_columns": null,
            "grid_auto_flow": null,
            "grid_auto_rows": null,
            "grid_column": null,
            "grid_gap": null,
            "grid_row": null,
            "grid_template_areas": null,
            "grid_template_columns": null,
            "grid_template_rows": null,
            "height": null,
            "justify_content": null,
            "justify_items": null,
            "left": null,
            "margin": null,
            "max_height": null,
            "max_width": null,
            "min_height": null,
            "min_width": null,
            "object_fit": null,
            "object_position": null,
            "order": null,
            "overflow": null,
            "overflow_x": null,
            "overflow_y": null,
            "padding": null,
            "right": null,
            "top": null,
            "visibility": null,
            "width": null
          }
        },
        "3145bab333454d5aae38fcc9be93dc91": {
          "model_module": "@jupyter-widgets/base",
          "model_name": "LayoutModel",
          "model_module_version": "1.2.0",
          "state": {
            "_model_module": "@jupyter-widgets/base",
            "_model_module_version": "1.2.0",
            "_model_name": "LayoutModel",
            "_view_count": null,
            "_view_module": "@jupyter-widgets/base",
            "_view_module_version": "1.2.0",
            "_view_name": "LayoutView",
            "align_content": null,
            "align_items": null,
            "align_self": null,
            "border": null,
            "bottom": null,
            "display": null,
            "flex": null,
            "flex_flow": null,
            "grid_area": null,
            "grid_auto_columns": null,
            "grid_auto_flow": null,
            "grid_auto_rows": null,
            "grid_column": null,
            "grid_gap": null,
            "grid_row": null,
            "grid_template_areas": null,
            "grid_template_columns": null,
            "grid_template_rows": null,
            "height": null,
            "justify_content": null,
            "justify_items": null,
            "left": null,
            "margin": null,
            "max_height": null,
            "max_width": null,
            "min_height": null,
            "min_width": null,
            "object_fit": null,
            "object_position": null,
            "order": null,
            "overflow": null,
            "overflow_x": null,
            "overflow_y": null,
            "padding": null,
            "right": null,
            "top": null,
            "visibility": null,
            "width": null
          }
        },
        "2f7efb18cff74fd39c2947c15d71d4f6": {
          "model_module": "@jupyter-widgets/controls",
          "model_name": "DescriptionStyleModel",
          "model_module_version": "1.5.0",
          "state": {
            "_model_module": "@jupyter-widgets/controls",
            "_model_module_version": "1.5.0",
            "_model_name": "DescriptionStyleModel",
            "_view_count": null,
            "_view_module": "@jupyter-widgets/base",
            "_view_module_version": "1.2.0",
            "_view_name": "StyleView",
            "description_width": ""
          }
        },
        "67fbe433549a410eb8d5cb2fd1b61c74": {
          "model_module": "@jupyter-widgets/base",
          "model_name": "LayoutModel",
          "model_module_version": "1.2.0",
          "state": {
            "_model_module": "@jupyter-widgets/base",
            "_model_module_version": "1.2.0",
            "_model_name": "LayoutModel",
            "_view_count": null,
            "_view_module": "@jupyter-widgets/base",
            "_view_module_version": "1.2.0",
            "_view_name": "LayoutView",
            "align_content": null,
            "align_items": null,
            "align_self": null,
            "border": null,
            "bottom": null,
            "display": null,
            "flex": null,
            "flex_flow": null,
            "grid_area": null,
            "grid_auto_columns": null,
            "grid_auto_flow": null,
            "grid_auto_rows": null,
            "grid_column": null,
            "grid_gap": null,
            "grid_row": null,
            "grid_template_areas": null,
            "grid_template_columns": null,
            "grid_template_rows": null,
            "height": null,
            "justify_content": null,
            "justify_items": null,
            "left": null,
            "margin": null,
            "max_height": null,
            "max_width": null,
            "min_height": null,
            "min_width": null,
            "object_fit": null,
            "object_position": null,
            "order": null,
            "overflow": null,
            "overflow_x": null,
            "overflow_y": null,
            "padding": null,
            "right": null,
            "top": null,
            "visibility": null,
            "width": null
          }
        },
        "c31cec360f6e4c97b0533f4743e60d04": {
          "model_module": "@jupyter-widgets/controls",
          "model_name": "ProgressStyleModel",
          "model_module_version": "1.5.0",
          "state": {
            "_model_module": "@jupyter-widgets/controls",
            "_model_module_version": "1.5.0",
            "_model_name": "ProgressStyleModel",
            "_view_count": null,
            "_view_module": "@jupyter-widgets/base",
            "_view_module_version": "1.2.0",
            "_view_name": "StyleView",
            "bar_color": null,
            "description_width": ""
          }
        },
        "8638f60805c445c79497340e5d254574": {
          "model_module": "@jupyter-widgets/base",
          "model_name": "LayoutModel",
          "model_module_version": "1.2.0",
          "state": {
            "_model_module": "@jupyter-widgets/base",
            "_model_module_version": "1.2.0",
            "_model_name": "LayoutModel",
            "_view_count": null,
            "_view_module": "@jupyter-widgets/base",
            "_view_module_version": "1.2.0",
            "_view_name": "LayoutView",
            "align_content": null,
            "align_items": null,
            "align_self": null,
            "border": null,
            "bottom": null,
            "display": null,
            "flex": null,
            "flex_flow": null,
            "grid_area": null,
            "grid_auto_columns": null,
            "grid_auto_flow": null,
            "grid_auto_rows": null,
            "grid_column": null,
            "grid_gap": null,
            "grid_row": null,
            "grid_template_areas": null,
            "grid_template_columns": null,
            "grid_template_rows": null,
            "height": null,
            "justify_content": null,
            "justify_items": null,
            "left": null,
            "margin": null,
            "max_height": null,
            "max_width": null,
            "min_height": null,
            "min_width": null,
            "object_fit": null,
            "object_position": null,
            "order": null,
            "overflow": null,
            "overflow_x": null,
            "overflow_y": null,
            "padding": null,
            "right": null,
            "top": null,
            "visibility": null,
            "width": null
          }
        },
        "ddf03cc8165e4bbe97496b46819d5a0c": {
          "model_module": "@jupyter-widgets/controls",
          "model_name": "DescriptionStyleModel",
          "model_module_version": "1.5.0",
          "state": {
            "_model_module": "@jupyter-widgets/controls",
            "_model_module_version": "1.5.0",
            "_model_name": "DescriptionStyleModel",
            "_view_count": null,
            "_view_module": "@jupyter-widgets/base",
            "_view_module_version": "1.2.0",
            "_view_name": "StyleView",
            "description_width": ""
          }
        },
        "44f653f4225e45d1a3d27ffd70fea977": {
          "model_module": "@jupyter-widgets/controls",
          "model_name": "HBoxModel",
          "model_module_version": "1.5.0",
          "state": {
            "_dom_classes": [],
            "_model_module": "@jupyter-widgets/controls",
            "_model_module_version": "1.5.0",
            "_model_name": "HBoxModel",
            "_view_count": null,
            "_view_module": "@jupyter-widgets/controls",
            "_view_module_version": "1.5.0",
            "_view_name": "HBoxView",
            "box_style": "",
            "children": [
              "IPY_MODEL_fac4098060ad451191dbe739a1c06a39",
              "IPY_MODEL_cb6bc831a2cd401f947c11cb77657125",
              "IPY_MODEL_07441b67fa4f4acaaedcaf0cfd99e489"
            ],
            "layout": "IPY_MODEL_f9ada4a7d38f47b393ec2e6c094b8fab"
          }
        },
        "fac4098060ad451191dbe739a1c06a39": {
          "model_module": "@jupyter-widgets/controls",
          "model_name": "HTMLModel",
          "model_module_version": "1.5.0",
          "state": {
            "_dom_classes": [],
            "_model_module": "@jupyter-widgets/controls",
            "_model_module_version": "1.5.0",
            "_model_name": "HTMLModel",
            "_view_count": null,
            "_view_module": "@jupyter-widgets/controls",
            "_view_module_version": "1.5.0",
            "_view_name": "HTMLView",
            "description": "",
            "description_tooltip": null,
            "layout": "IPY_MODEL_ff47ea01a3294415bc7596280865b011",
            "placeholder": "​",
            "style": "IPY_MODEL_ff41226924f44c2eaf31d0973e08b1ba",
            "value": "pytorch_model.bin: 100%"
          }
        },
        "cb6bc831a2cd401f947c11cb77657125": {
          "model_module": "@jupyter-widgets/controls",
          "model_name": "FloatProgressModel",
          "model_module_version": "1.5.0",
          "state": {
            "_dom_classes": [],
            "_model_module": "@jupyter-widgets/controls",
            "_model_module_version": "1.5.0",
            "_model_name": "FloatProgressModel",
            "_view_count": null,
            "_view_module": "@jupyter-widgets/controls",
            "_view_module_version": "1.5.0",
            "_view_name": "ProgressView",
            "bar_style": "success",
            "description": "",
            "description_tooltip": null,
            "layout": "IPY_MODEL_a369061f29744f78b6d270eaca4b0ac7",
            "max": 134982446,
            "min": 0,
            "orientation": "horizontal",
            "style": "IPY_MODEL_68cb2bb089f2433f803d526594f70cfa",
            "value": 134982446
          }
        },
        "07441b67fa4f4acaaedcaf0cfd99e489": {
          "model_module": "@jupyter-widgets/controls",
          "model_name": "HTMLModel",
          "model_module_version": "1.5.0",
          "state": {
            "_dom_classes": [],
            "_model_module": "@jupyter-widgets/controls",
            "_model_module_version": "1.5.0",
            "_model_name": "HTMLModel",
            "_view_count": null,
            "_view_module": "@jupyter-widgets/controls",
            "_view_module_version": "1.5.0",
            "_view_name": "HTMLView",
            "description": "",
            "description_tooltip": null,
            "layout": "IPY_MODEL_6a629449c91b4a07acd3f9fadbac68fd",
            "placeholder": "​",
            "style": "IPY_MODEL_a87129445bfd49d88d0117d11a832218",
            "value": " 135M/135M [00:01&lt;00:00, 115MB/s]"
          }
        },
        "f9ada4a7d38f47b393ec2e6c094b8fab": {
          "model_module": "@jupyter-widgets/base",
          "model_name": "LayoutModel",
          "model_module_version": "1.2.0",
          "state": {
            "_model_module": "@jupyter-widgets/base",
            "_model_module_version": "1.2.0",
            "_model_name": "LayoutModel",
            "_view_count": null,
            "_view_module": "@jupyter-widgets/base",
            "_view_module_version": "1.2.0",
            "_view_name": "LayoutView",
            "align_content": null,
            "align_items": null,
            "align_self": null,
            "border": null,
            "bottom": null,
            "display": null,
            "flex": null,
            "flex_flow": null,
            "grid_area": null,
            "grid_auto_columns": null,
            "grid_auto_flow": null,
            "grid_auto_rows": null,
            "grid_column": null,
            "grid_gap": null,
            "grid_row": null,
            "grid_template_areas": null,
            "grid_template_columns": null,
            "grid_template_rows": null,
            "height": null,
            "justify_content": null,
            "justify_items": null,
            "left": null,
            "margin": null,
            "max_height": null,
            "max_width": null,
            "min_height": null,
            "min_width": null,
            "object_fit": null,
            "object_position": null,
            "order": null,
            "overflow": null,
            "overflow_x": null,
            "overflow_y": null,
            "padding": null,
            "right": null,
            "top": null,
            "visibility": null,
            "width": null
          }
        },
        "ff47ea01a3294415bc7596280865b011": {
          "model_module": "@jupyter-widgets/base",
          "model_name": "LayoutModel",
          "model_module_version": "1.2.0",
          "state": {
            "_model_module": "@jupyter-widgets/base",
            "_model_module_version": "1.2.0",
            "_model_name": "LayoutModel",
            "_view_count": null,
            "_view_module": "@jupyter-widgets/base",
            "_view_module_version": "1.2.0",
            "_view_name": "LayoutView",
            "align_content": null,
            "align_items": null,
            "align_self": null,
            "border": null,
            "bottom": null,
            "display": null,
            "flex": null,
            "flex_flow": null,
            "grid_area": null,
            "grid_auto_columns": null,
            "grid_auto_flow": null,
            "grid_auto_rows": null,
            "grid_column": null,
            "grid_gap": null,
            "grid_row": null,
            "grid_template_areas": null,
            "grid_template_columns": null,
            "grid_template_rows": null,
            "height": null,
            "justify_content": null,
            "justify_items": null,
            "left": null,
            "margin": null,
            "max_height": null,
            "max_width": null,
            "min_height": null,
            "min_width": null,
            "object_fit": null,
            "object_position": null,
            "order": null,
            "overflow": null,
            "overflow_x": null,
            "overflow_y": null,
            "padding": null,
            "right": null,
            "top": null,
            "visibility": null,
            "width": null
          }
        },
        "ff41226924f44c2eaf31d0973e08b1ba": {
          "model_module": "@jupyter-widgets/controls",
          "model_name": "DescriptionStyleModel",
          "model_module_version": "1.5.0",
          "state": {
            "_model_module": "@jupyter-widgets/controls",
            "_model_module_version": "1.5.0",
            "_model_name": "DescriptionStyleModel",
            "_view_count": null,
            "_view_module": "@jupyter-widgets/base",
            "_view_module_version": "1.2.0",
            "_view_name": "StyleView",
            "description_width": ""
          }
        },
        "a369061f29744f78b6d270eaca4b0ac7": {
          "model_module": "@jupyter-widgets/base",
          "model_name": "LayoutModel",
          "model_module_version": "1.2.0",
          "state": {
            "_model_module": "@jupyter-widgets/base",
            "_model_module_version": "1.2.0",
            "_model_name": "LayoutModel",
            "_view_count": null,
            "_view_module": "@jupyter-widgets/base",
            "_view_module_version": "1.2.0",
            "_view_name": "LayoutView",
            "align_content": null,
            "align_items": null,
            "align_self": null,
            "border": null,
            "bottom": null,
            "display": null,
            "flex": null,
            "flex_flow": null,
            "grid_area": null,
            "grid_auto_columns": null,
            "grid_auto_flow": null,
            "grid_auto_rows": null,
            "grid_column": null,
            "grid_gap": null,
            "grid_row": null,
            "grid_template_areas": null,
            "grid_template_columns": null,
            "grid_template_rows": null,
            "height": null,
            "justify_content": null,
            "justify_items": null,
            "left": null,
            "margin": null,
            "max_height": null,
            "max_width": null,
            "min_height": null,
            "min_width": null,
            "object_fit": null,
            "object_position": null,
            "order": null,
            "overflow": null,
            "overflow_x": null,
            "overflow_y": null,
            "padding": null,
            "right": null,
            "top": null,
            "visibility": null,
            "width": null
          }
        },
        "68cb2bb089f2433f803d526594f70cfa": {
          "model_module": "@jupyter-widgets/controls",
          "model_name": "ProgressStyleModel",
          "model_module_version": "1.5.0",
          "state": {
            "_model_module": "@jupyter-widgets/controls",
            "_model_module_version": "1.5.0",
            "_model_name": "ProgressStyleModel",
            "_view_count": null,
            "_view_module": "@jupyter-widgets/base",
            "_view_module_version": "1.2.0",
            "_view_name": "StyleView",
            "bar_color": null,
            "description_width": ""
          }
        },
        "6a629449c91b4a07acd3f9fadbac68fd": {
          "model_module": "@jupyter-widgets/base",
          "model_name": "LayoutModel",
          "model_module_version": "1.2.0",
          "state": {
            "_model_module": "@jupyter-widgets/base",
            "_model_module_version": "1.2.0",
            "_model_name": "LayoutModel",
            "_view_count": null,
            "_view_module": "@jupyter-widgets/base",
            "_view_module_version": "1.2.0",
            "_view_name": "LayoutView",
            "align_content": null,
            "align_items": null,
            "align_self": null,
            "border": null,
            "bottom": null,
            "display": null,
            "flex": null,
            "flex_flow": null,
            "grid_area": null,
            "grid_auto_columns": null,
            "grid_auto_flow": null,
            "grid_auto_rows": null,
            "grid_column": null,
            "grid_gap": null,
            "grid_row": null,
            "grid_template_areas": null,
            "grid_template_columns": null,
            "grid_template_rows": null,
            "height": null,
            "justify_content": null,
            "justify_items": null,
            "left": null,
            "margin": null,
            "max_height": null,
            "max_width": null,
            "min_height": null,
            "min_width": null,
            "object_fit": null,
            "object_position": null,
            "order": null,
            "overflow": null,
            "overflow_x": null,
            "overflow_y": null,
            "padding": null,
            "right": null,
            "top": null,
            "visibility": null,
            "width": null
          }
        },
        "a87129445bfd49d88d0117d11a832218": {
          "model_module": "@jupyter-widgets/controls",
          "model_name": "DescriptionStyleModel",
          "model_module_version": "1.5.0",
          "state": {
            "_model_module": "@jupyter-widgets/controls",
            "_model_module_version": "1.5.0",
            "_model_name": "DescriptionStyleModel",
            "_view_count": null,
            "_view_module": "@jupyter-widgets/base",
            "_view_module_version": "1.2.0",
            "_view_name": "StyleView",
            "description_width": ""
          }
        }
      }
    }
  },
  "nbformat": 4,
  "nbformat_minor": 0
}